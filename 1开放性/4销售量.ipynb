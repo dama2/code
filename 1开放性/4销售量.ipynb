{
 "cells": [
  {
   "cell_type": "code",
   "execution_count": null,
   "metadata": {},
   "outputs": [],
   "source": [
    "# 计算月销售量\n",
    "import pandas as pd\n",
    "from datetime import datetime\n",
    "import numpy as np\n",
    "import time"
   ]
  },
  {
   "cell_type": "code",
   "execution_count": null,
   "metadata": {},
   "outputs": [],
   "source": [
    "# 读入用户的数据集\n",
    "order_items = pd.read_csv(\"../outputdata/dataNa.csv\")\n",
    "\n",
    "# 每种商品类型的最高销量\n",
    "df = pd.read_csv('../outputdata/df.csv',index_col=0)\n",
    "# 当前日期的前30天，前31天，前60天\n",
    "date = pd.read_csv('../outputdata/date.csv',index_col=0)\n",
    "# 每种商品的销售量\n",
    "sales = pd.read_csv('../outputdata/sales.csv')\n",
    "\n",
    "order_items['k4']=0\n"
   ]
  },
  {
   "cell_type": "code",
   "execution_count": null,
   "metadata": {},
   "outputs": [],
   "source": [
    "for uid,group in order_items.groupby('user_id'):\n",
    "    print(uid)\n",
    "    # 首先找到用户的记录\n",
    "    for x in group.itertuples():\n",
    "        datenow = x.date   # 当前的日期\n",
    "        cate = x.cate  # 商品的种类\n",
    "        sku = x.sku_id  # 商品的id\n",
    "        # # 计算当前日期的前30天\n",
    "        date30 = date.loc[datenow, \"date30\"]\n",
    "        date31 = date.loc[datenow, \"date31\"]\n",
    "       \n",
    "        #  统计前30天的销售量\n",
    "        sales30 = sales.loc[sku-1, date30:datenow].sum()\n",
    "       \n",
    "        # 在过去30天，该种类销售量最高的商品的销售量\n",
    "        max30 = df.loc['c'+str(cate)+'MaxSales30', datenow]\n",
    "        # 销售量\n",
    "        temp1=(sales30+1)/(max30+1)\n",
    "\n",
    "\n",
    "        order_items.iloc[x.Index,-1]=temp1"
   ]
  },
  {
   "cell_type": "code",
   "execution_count": null,
   "metadata": {},
   "outputs": [],
   "source": [
    "\n",
    "order_items.to_csv(path_or_buf=\"../outputdata/dataNa.csv\",header=True,index=False) "
   ]
  }
 ],
 "metadata": {
  "kernelspec": {
   "display_name": "base",
   "language": "python",
   "name": "python3"
  },
  "language_info": {
   "codemirror_mode": {
    "name": "ipython",
    "version": 3
   },
   "file_extension": ".py",
   "mimetype": "text/x-python",
   "name": "python",
   "nbconvert_exporter": "python",
   "pygments_lexer": "ipython3",
   "version": "3.8.16"
  },
  "orig_nbformat": 4,
  "vscode": {
   "interpreter": {
    "hash": "979a2a7d614d90502aec1677fafef0a37911f54daf6a049cad98f7a3dda0b4e8"
   }
  }
 },
 "nbformat": 4,
 "nbformat_minor": 2
}
